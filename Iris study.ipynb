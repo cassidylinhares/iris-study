{
 "cells": [
  {
   "cell_type": "code",
   "execution_count": 1,
   "metadata": {},
   "outputs": [],
   "source": [
    "import numpy as np\n",
    "import pandas as pd\n",
    "import matplotlib.pyplot as plt"
   ]
  },
  {
   "cell_type": "code",
   "execution_count": 2,
   "metadata": {},
   "outputs": [],
   "source": [
    "k=3\n",
    "info = pd.read_csv(\"iris.data.csv\")"
   ]
  },
  {
   "cell_type": "code",
   "execution_count": 3,
   "metadata": {},
   "outputs": [],
   "source": [
    "def get_train_test_split(df, train_size=0.7):\n",
    "    test_size = 1 - train_size\n",
    "    \n",
    "    #copy 70% of random chosen data as training set\n",
    "    train = df.sample(\n",
    "        round(df.shape[0]*train_size)\n",
    "    ).copy()\n",
    "    \n",
    "    test = df.loc[[x for x in df.index if x not in list(train.index)]]\n",
    "    \n",
    "#     return X_train, Y_train, X_test, Y_test\n",
    "    return train, test"
   ]
  },
  {
   "cell_type": "code",
   "execution_count": 4,
   "metadata": {},
   "outputs": [],
   "source": [
    "train, test = get_train_test_split(info, train_size=0.6)"
   ]
  },
  {
   "cell_type": "code",
   "execution_count": 5,
   "metadata": {},
   "outputs": [],
   "source": [
    "#makes sure that the points in train dont exist in test\n",
    "assert(len(set(train.index).intersection(set(test.index))) == 0)"
   ]
  },
  {
   "cell_type": "code",
   "execution_count": 6,
   "metadata": {},
   "outputs": [
    {
     "data": {
      "text/html": [
       "<div>\n",
       "<style scoped>\n",
       "    .dataframe tbody tr th:only-of-type {\n",
       "        vertical-align: middle;\n",
       "    }\n",
       "\n",
       "    .dataframe tbody tr th {\n",
       "        vertical-align: top;\n",
       "    }\n",
       "\n",
       "    .dataframe thead th {\n",
       "        text-align: right;\n",
       "    }\n",
       "</style>\n",
       "<table border=\"1\" class=\"dataframe\">\n",
       "  <thead>\n",
       "    <tr style=\"text-align: right;\">\n",
       "      <th></th>\n",
       "      <th>sepalLength</th>\n",
       "      <th>sepalWidth</th>\n",
       "      <th>petalLength</th>\n",
       "      <th>petalWidth</th>\n",
       "      <th>Class</th>\n",
       "    </tr>\n",
       "  </thead>\n",
       "  <tbody>\n",
       "    <tr>\n",
       "      <th>98</th>\n",
       "      <td>5.1</td>\n",
       "      <td>2.5</td>\n",
       "      <td>3.0</td>\n",
       "      <td>1.1</td>\n",
       "      <td>Iris-versicolor</td>\n",
       "    </tr>\n",
       "    <tr>\n",
       "      <th>4</th>\n",
       "      <td>5.0</td>\n",
       "      <td>3.6</td>\n",
       "      <td>1.4</td>\n",
       "      <td>0.2</td>\n",
       "      <td>Iris-setosa</td>\n",
       "    </tr>\n",
       "    <tr>\n",
       "      <th>74</th>\n",
       "      <td>6.4</td>\n",
       "      <td>2.9</td>\n",
       "      <td>4.3</td>\n",
       "      <td>1.3</td>\n",
       "      <td>Iris-versicolor</td>\n",
       "    </tr>\n",
       "    <tr>\n",
       "      <th>90</th>\n",
       "      <td>5.5</td>\n",
       "      <td>2.6</td>\n",
       "      <td>4.4</td>\n",
       "      <td>1.2</td>\n",
       "      <td>Iris-versicolor</td>\n",
       "    </tr>\n",
       "    <tr>\n",
       "      <th>87</th>\n",
       "      <td>6.3</td>\n",
       "      <td>2.3</td>\n",
       "      <td>4.4</td>\n",
       "      <td>1.3</td>\n",
       "      <td>Iris-versicolor</td>\n",
       "    </tr>\n",
       "  </tbody>\n",
       "</table>\n",
       "</div>"
      ],
      "text/plain": [
       "    sepalLength  sepalWidth  petalLength  petalWidth            Class\n",
       "98          5.1         2.5          3.0         1.1  Iris-versicolor\n",
       "4           5.0         3.6          1.4         0.2      Iris-setosa\n",
       "74          6.4         2.9          4.3         1.3  Iris-versicolor\n",
       "90          5.5         2.6          4.4         1.2  Iris-versicolor\n",
       "87          6.3         2.3          4.4         1.3  Iris-versicolor"
      ]
     },
     "execution_count": 6,
     "metadata": {},
     "output_type": "execute_result"
    }
   ],
   "source": [
    "train.head()"
   ]
  },
  {
   "cell_type": "code",
   "execution_count": 7,
   "metadata": {},
   "outputs": [
    {
     "data": {
      "text/plain": [
       "array([35, 32, 23])"
      ]
     },
     "execution_count": 7,
     "metadata": {},
     "output_type": "execute_result"
    }
   ],
   "source": [
    "train['Class'].value_counts().values"
   ]
  },
  {
   "cell_type": "code",
   "execution_count": 8,
   "metadata": {},
   "outputs": [],
   "source": [
    "def distance(point, cent, ax=1):\n",
    "    return np.linalg.norm(point - cent, axis=ax)"
   ]
  },
  {
   "cell_type": "code",
   "execution_count": 9,
   "metadata": {},
   "outputs": [],
   "source": [
    "#assign point to cluster (0, 1, or 2)\n",
    "def getCentroids(data):\n",
    "    #initialize training set\n",
    "    trainSet = data.drop('Class', axis=1).values\n",
    "    trainGroup = np.zeros(len(trainSet))\n",
    "    \n",
    "    #init Centroids\n",
    "    centroidX = np.random.uniform(trainSet[:, 0].min(), high = trainSet[:, 0].max(), size = k)\n",
    "    centroidY = np.random.uniform(trainSet[:, 1].min(), high = trainSet[:, 1].max(), size = k)\n",
    "    centroid = np.array(list(zip(centroidX, centroidY)), dtype = np.float32)\n",
    "    \n",
    "    \n",
    "    #init previous centroid and displacement\n",
    "    oldCentroid = np.zeros((len(centroid), len(centroid[0])))\n",
    "    displacement = None\n",
    "    \n",
    "    #Clustering\n",
    "    while displacement is None or np.mean(displacement) > 0.09:\n",
    "        for i in range(len(trainSet)):\n",
    "            distList = distance(trainSet[i], centroid)\n",
    "            trainGroup[i] = distList.argmin()\n",
    "\n",
    "        #adjust new Centroid to mean of clusters\n",
    "        oldCentroid = centroid.copy()\n",
    "\n",
    "        for i in range(k):\n",
    "            cluster = np.array([trainSet[j] for j in range(len(trainSet)) if trainGroup[j]==i])\n",
    "            centroid[i] = cluster.mean(axis=0)\n",
    "\n",
    "        #find new displacement\n",
    "        displacement = distance(centroid, oldCentroid)\n",
    "    \n",
    "    return centroid"
   ]
  },
  {
   "cell_type": "code",
   "execution_count": 10,
   "metadata": {},
   "outputs": [],
   "source": [
    "def clusterData(data, centroid):\n",
    "    dataGroup = np.zeros(len(data))\n",
    "    dataSet = data.drop('Class', axis=1).values\n",
    "    \n",
    "    for i in range(len(dataSet)):\n",
    "        distList = distance(dataSet[i], centroid)\n",
    "        dataGroup[i] = distList.argmin()\n",
    "    \n",
    "    return dataGroup"
   ]
  },
  {
   "cell_type": "code",
   "execution_count": 11,
   "metadata": {},
   "outputs": [],
   "source": [
    "def plot(data, centroid, cluster, title):\n",
    "    dataSet= data.values\n",
    "    \n",
    "    fig, axes = plt.subplots(\n",
    "        nrows=1,\n",
    "        ncols=2,\n",
    "        sharex=True,\n",
    "        sharey=True,\n",
    "        figsize=(15, 10)\n",
    "    )\n",
    "\n",
    "    axes[0].set_title(\"Clusters\")\n",
    "    axes[1].set_title(\"Actual\")\n",
    "    \n",
    "    for ax in axes:    \n",
    "        ax.set_xlabel('Length (cm)')\n",
    "        ax.set_ylabel('Width (cm)')\n",
    "    \n",
    "    colour=['green', 'orange', 'blue', 'slategrey', 'cyan', 'purple']\n",
    "    \n",
    "    for i in range(k):\n",
    "        pts = np.array([dataSet[j] for j in range(len(dataSet)) if cluster[j]==i])\n",
    "        #display\n",
    "        \n",
    "        if len(pts) > 0:\n",
    "            axes[0].plot(pts[:,0], pts[:,1], color=colour[i], marker='.', linestyle='', markersize=10)\n",
    "            axes[0].plot(centroid[i,0],centroid[i,1], color='black', marker='o', markersize=10)\n",
    "    \n",
    "    for i, species in enumerate(data['Class'].unique()):\n",
    "        subset = data[data['Class'] == species].values\n",
    "        \n",
    "        if len(subset) > 0:\n",
    "            axes[1].plot(subset[:, 0], subset[:, 1], color=colour[i+3], marker='.', linestyle='', label=species, markersize=10)\n",
    "            \n",
    "    axes[1].legend()"
   ]
  },
  {
   "cell_type": "code",
   "execution_count": null,
   "metadata": {},
   "outputs": [],
   "source": []
  },
  {
   "cell_type": "code",
   "execution_count": 12,
   "metadata": {
    "scrolled": false
   },
   "outputs": [],
   "source": [
    "sepal_dat = train[['sepalLength', 'sepalWidth', 'Class']]\n",
    "\n",
    "centroid = getCentroids(sepal_dat)\n",
    "clusters = clusterData(sepal_dat, centroid)\n",
    "# plot(sepal_dat, centroid, clusters, \"Sepal Length vs Width - Train\")\n"
   ]
  },
  {
   "cell_type": "code",
   "execution_count": 13,
   "metadata": {},
   "outputs": [
    {
     "data": {
      "image/png": "[encoded data removed]",
      "text/plain": [
       "<Figure size 1080x720 with 2 Axes>"
      ]
     },
     "metadata": {
      "needs_background": "light"
     },
     "output_type": "display_data"
    }
   ],
   "source": [
    "sepal_dat_test = test[['sepalLength', 'sepalWidth', 'Class']]\n",
    "\n",
    "clusters = clusterData(sepal_dat_test, centroid)\n",
    "plot(sepal_dat_test, centroid, clusters, \"Sepal Length vs Width - Test\")"
   ]
  },
  {
   "cell_type": "code",
   "execution_count": 14,
   "metadata": {
    "scrolled": false
   },
   "outputs": [],
   "source": [
    "petal_dat = train[['petalLength', 'petalWidth', 'Class']]\n",
    "\n",
    "centroid = getCentroids(petal_dat)\n",
    "clusters = clusterData(petal_dat, centroid)\n",
    "# plot(petal_dat, centroid, clusters, \"Petal Length vs Width - Train\")"
   ]
  },
  {
   "cell_type": "code",
   "execution_count": 15,
   "metadata": {},
   "outputs": [
    {
     "data": {
      "image/png": "[encoded data removed]",
      "text/plain": [
       "<Figure size 1080x720 with 2 Axes>"
      ]
     },
     "metadata": {
      "needs_background": "light"
     },
     "output_type": "display_data"
    }
   ],
   "source": [
    "petal_dat_test = test[['petalLength', 'petalWidth', 'Class']]\n",
    "\n",
    "clusters = clusterData(petal_dat_test, centroid)\n",
    "plot(petal_dat_test, centroid, clusters, \"Petal Length vs Width - Test\")"
   ]
  },
  {
   "cell_type": "code",
   "execution_count": null,
   "metadata": {},
   "outputs": [],
   "source": []
  },
  {
   "cell_type": "code",
   "execution_count": null,
   "metadata": {},
   "outputs": [],
   "source": []
  },
  {
   "cell_type": "markdown",
   "metadata": {},
   "source": [
    "# Train Decision Tree Model"
   ]
  },
  {
   "cell_type": "code",
   "execution_count": 16,
   "metadata": {},
   "outputs": [],
   "source": [
    "from sklearn.tree import DecisionTreeClassifier\n",
    "from sklearn.metrics import accuracy_score"
   ]
  },
  {
   "cell_type": "code",
   "execution_count": 17,
   "metadata": {},
   "outputs": [],
   "source": [
    "def to_class(label):\n",
    "    class_map = {\n",
    "        'Iris-versicolor': 0,\n",
    "        'Iris-virginica': 1, \n",
    "        'Iris-setosa': 2\n",
    "    }\n",
    "    \n",
    "    return(class_map[label])"
   ]
  },
  {
   "cell_type": "markdown",
   "metadata": {},
   "source": [
    "### Train Decision Tree Model on petal features"
   ]
  },
  {
   "cell_type": "code",
   "execution_count": 18,
   "metadata": {},
   "outputs": [],
   "source": [
    "treeClassifier = DecisionTreeClassifier()"
   ]
  },
  {
   "cell_type": "code",
   "execution_count": 19,
   "metadata": {},
   "outputs": [
    {
     "data": {
      "text/plain": [
       "DecisionTreeClassifier(class_weight=None, criterion='gini', max_depth=None,\n",
       "            max_features=None, max_leaf_nodes=None,\n",
       "            min_impurity_decrease=0.0, min_impurity_split=None,\n",
       "            min_samples_leaf=1, min_samples_split=2,\n",
       "            min_weight_fraction_leaf=0.0, presort=False, random_state=None,\n",
       "            splitter='best')"
      ]
     },
     "execution_count": 19,
     "metadata": {},
     "output_type": "execute_result"
    }
   ],
   "source": [
    "x = train[['petalLength', 'petalWidth']].values\n",
    "y = train['Class'].apply(to_class).values\n",
    "\n",
    "treeClassifier.fit(x, y)"
   ]
  },
  {
   "cell_type": "code",
   "execution_count": 20,
   "metadata": {},
   "outputs": [],
   "source": [
    "predictedData = treeClassifier.predict(test[['petalLength', 'petalWidth']].values)"
   ]
  },
  {
   "cell_type": "markdown",
   "metadata": {},
   "source": [
    "### Accuracy of Decision Tree of petal features on test set"
   ]
  },
  {
   "cell_type": "code",
   "execution_count": 21,
   "metadata": {},
   "outputs": [
    {
     "data": {
      "text/plain": [
       "93.33333333333333"
      ]
     },
     "execution_count": 21,
     "metadata": {},
     "output_type": "execute_result"
    }
   ],
   "source": [
    "accuracy_score(test['Class'].apply(to_class).values, predictedData)*100"
   ]
  },
  {
   "cell_type": "markdown",
   "metadata": {},
   "source": [
    "### Train Decision Tree Model on sepal features"
   ]
  },
  {
   "cell_type": "code",
   "execution_count": 22,
   "metadata": {},
   "outputs": [],
   "source": [
    "treeClassifier = DecisionTreeClassifier()"
   ]
  },
  {
   "cell_type": "code",
   "execution_count": 23,
   "metadata": {},
   "outputs": [
    {
     "data": {
      "text/plain": [
       "DecisionTreeClassifier(class_weight=None, criterion='gini', max_depth=None,\n",
       "            max_features=None, max_leaf_nodes=None,\n",
       "            min_impurity_decrease=0.0, min_impurity_split=None,\n",
       "            min_samples_leaf=1, min_samples_split=2,\n",
       "            min_weight_fraction_leaf=0.0, presort=False, random_state=None,\n",
       "            splitter='best')"
      ]
     },
     "execution_count": 23,
     "metadata": {},
     "output_type": "execute_result"
    }
   ],
   "source": [
    "x = train[['sepalLength', 'sepalWidth']].values\n",
    "y = train['Class'].apply(to_class).values\n",
    "\n",
    "treeClassifier.fit(x, y)"
   ]
  },
  {
   "cell_type": "code",
   "execution_count": 24,
   "metadata": {},
   "outputs": [],
   "source": [
    "predictedData = treeClassifier.predict(test[['sepalLength', 'sepalWidth']].values)"
   ]
  },
  {
   "cell_type": "markdown",
   "metadata": {},
   "source": [
    "### Accuracy of Decision Tree of sepal features on test set"
   ]
  },
  {
   "cell_type": "code",
   "execution_count": 25,
   "metadata": {},
   "outputs": [
    {
     "data": {
      "text/plain": [
       "63.33333333333333"
      ]
     },
     "execution_count": 25,
     "metadata": {},
     "output_type": "execute_result"
    }
   ],
   "source": [
    "accuracy_score(test['Class'].apply(to_class).values, predictedData)*100"
   ]
  },
  {
   "cell_type": "markdown",
   "metadata": {},
   "source": [
    "### Train Decision Tree Model on all features"
   ]
  },
  {
   "cell_type": "code",
   "execution_count": 26,
   "metadata": {},
   "outputs": [],
   "source": [
    "treeClassifier = DecisionTreeClassifier()"
   ]
  },
  {
   "cell_type": "code",
   "execution_count": 27,
   "metadata": {},
   "outputs": [
    {
     "data": {
      "text/plain": [
       "DecisionTreeClassifier(class_weight=None, criterion='gini', max_depth=None,\n",
       "            max_features=None, max_leaf_nodes=None,\n",
       "            min_impurity_decrease=0.0, min_impurity_split=None,\n",
       "            min_samples_leaf=1, min_samples_split=2,\n",
       "            min_weight_fraction_leaf=0.0, presort=False, random_state=None,\n",
       "            splitter='best')"
      ]
     },
     "execution_count": 27,
     "metadata": {},
     "output_type": "execute_result"
    }
   ],
   "source": [
    "x = train.drop('Class', axis=1).values\n",
    "y = train['Class'].apply(to_class).values\n",
    "\n",
    "treeClassifier.fit(x, y)"
   ]
  },
  {
   "cell_type": "code",
   "execution_count": 28,
   "metadata": {},
   "outputs": [],
   "source": [
    "predictedData = treeClassifier.predict(test.drop('Class', axis=1).values)"
   ]
  },
  {
   "cell_type": "markdown",
   "metadata": {},
   "source": [
    "### Accuracy of Decision Tree of all features on test set"
   ]
  },
  {
   "cell_type": "code",
   "execution_count": 29,
   "metadata": {},
   "outputs": [
    {
     "data": {
      "text/plain": [
       "98.33333333333333"
      ]
     },
     "execution_count": 29,
     "metadata": {},
     "output_type": "execute_result"
    }
   ],
   "source": [
    "accuracy_score(test['Class'].apply(to_class).values, predictedData)*100"
   ]
  },
  {
   "cell_type": "code",
   "execution_count": null,
   "metadata": {},
   "outputs": [],
   "source": []
  }
 ],
 "metadata": {
  "kernelspec": {
   "display_name": "Python 3",
   "language": "python",
   "name": "python3"
  },
  "language_info": {
   "codemirror_mode": {
    "name": "ipython",
    "version": 3
   },
   "file_extension": ".py",
   "mimetype": "text/x-python",
   "name": "python",
   "nbconvert_exporter": "python",
   "pygments_lexer": "ipython3",
   "version": "3.6.7"
  }
 },
 "nbformat": 4,
 "nbformat_minor": 2
}
