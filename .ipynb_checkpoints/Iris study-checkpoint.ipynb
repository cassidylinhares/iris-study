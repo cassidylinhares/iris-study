{
 "cells": [
  {
   "cell_type": "code",
   "execution_count": 34,
   "metadata": {},
   "outputs": [],
   "source": [
    "import numpy as np\n",
    "import pandas as pd\n",
    "import matplotlib.pyplot as plt"
   ]
  },
  {
   "cell_type": "code",
   "execution_count": 35,
   "metadata": {},
   "outputs": [],
   "source": [
    "k=3\n",
    "info = pd.read_csv(\"iris.data.csv\")"
   ]
  },
  {
   "cell_type": "code",
   "execution_count": 36,
   "metadata": {},
   "outputs": [],
   "source": [
    "def get_train_test_split(df, train_size=0.7):\n",
    "    test_size = 1 - train_size\n",
    "    \n",
    "    #copy 70% of random chosen data as training set\n",
    "    train = df.sample(\n",
    "        round(df.shape[0]*train_size)\n",
    "    ).copy()\n",
    "    \n",
    "    test = df.loc[[x for x in df.index if x not in list(train.index)]]\n",
    "    \n",
    "#     return X_train, Y_train, X_test, Y_test\n",
    "    return train, test"
   ]
  },
  {
   "cell_type": "code",
   "execution_count": 37,
   "metadata": {},
   "outputs": [],
   "source": [
    "train, test = get_train_test_split(info, train_size=0.6)"
   ]
  },
  {
   "cell_type": "code",
   "execution_count": 38,
   "metadata": {},
   "outputs": [],
   "source": [
    "#makes sure that the points in train dont exist in test\n",
    "assert(len(set(train.index).intersection(set(test.index))) == 0)"
   ]
  },
  {
   "cell_type": "code",
   "execution_count": 39,
   "metadata": {},
   "outputs": [
    {
     "data": {
      "text/html": [
       "<div>\n",
       "<style scoped>\n",
       "    .dataframe tbody tr th:only-of-type {\n",
       "        vertical-align: middle;\n",
       "    }\n",
       "\n",
       "    .dataframe tbody tr th {\n",
       "        vertical-align: top;\n",
       "    }\n",
       "\n",
       "    .dataframe thead th {\n",
       "        text-align: right;\n",
       "    }\n",
       "</style>\n",
       "<table border=\"1\" class=\"dataframe\">\n",
       "  <thead>\n",
       "    <tr style=\"text-align: right;\">\n",
       "      <th></th>\n",
       "      <th>sepalLength</th>\n",
       "      <th>sepalWidth</th>\n",
       "      <th>petalLength</th>\n",
       "      <th>petalWidth</th>\n",
       "      <th>Class</th>\n",
       "    </tr>\n",
       "  </thead>\n",
       "  <tbody>\n",
       "    <tr>\n",
       "      <th>43</th>\n",
       "      <td>5.0</td>\n",
       "      <td>3.5</td>\n",
       "      <td>1.6</td>\n",
       "      <td>0.6</td>\n",
       "      <td>Iris-setosa</td>\n",
       "    </tr>\n",
       "    <tr>\n",
       "      <th>137</th>\n",
       "      <td>6.4</td>\n",
       "      <td>3.1</td>\n",
       "      <td>5.5</td>\n",
       "      <td>1.8</td>\n",
       "      <td>Iris-virginica</td>\n",
       "    </tr>\n",
       "    <tr>\n",
       "      <th>134</th>\n",
       "      <td>6.1</td>\n",
       "      <td>2.6</td>\n",
       "      <td>5.6</td>\n",
       "      <td>1.4</td>\n",
       "      <td>Iris-virginica</td>\n",
       "    </tr>\n",
       "    <tr>\n",
       "      <th>128</th>\n",
       "      <td>6.4</td>\n",
       "      <td>2.8</td>\n",
       "      <td>5.6</td>\n",
       "      <td>2.1</td>\n",
       "      <td>Iris-virginica</td>\n",
       "    </tr>\n",
       "    <tr>\n",
       "      <th>109</th>\n",
       "      <td>7.2</td>\n",
       "      <td>3.6</td>\n",
       "      <td>6.1</td>\n",
       "      <td>2.5</td>\n",
       "      <td>Iris-virginica</td>\n",
       "    </tr>\n",
       "  </tbody>\n",
       "</table>\n",
       "</div>"
      ],
      "text/plain": [
       "     sepalLength  sepalWidth  petalLength  petalWidth           Class\n",
       "43           5.0         3.5          1.6         0.6     Iris-setosa\n",
       "137          6.4         3.1          5.5         1.8  Iris-virginica\n",
       "134          6.1         2.6          5.6         1.4  Iris-virginica\n",
       "128          6.4         2.8          5.6         2.1  Iris-virginica\n",
       "109          7.2         3.6          6.1         2.5  Iris-virginica"
      ]
     },
     "execution_count": 39,
     "metadata": {},
     "output_type": "execute_result"
    }
   ],
   "source": [
    "train.head()"
   ]
  },
  {
   "cell_type": "code",
   "execution_count": 40,
   "metadata": {},
   "outputs": [
    {
     "data": {
      "text/plain": [
       "array([31, 30, 29])"
      ]
     },
     "execution_count": 40,
     "metadata": {},
     "output_type": "execute_result"
    }
   ],
   "source": [
    "train['Class'].value_counts().values"
   ]
  },
  {
   "cell_type": "code",
   "execution_count": 41,
   "metadata": {},
   "outputs": [],
   "source": [
    "def distance(point, cent, ax=1):\n",
    "    return np.linalg.norm(point - cent, axis=ax)"
   ]
  },
  {
   "cell_type": "code",
   "execution_count": 42,
   "metadata": {},
   "outputs": [],
   "source": [
    "#assign point to cluster (0, 1, or 2)\n",
    "def getCentroids(data):\n",
    "    #initialize training set\n",
    "    trainSet = data.drop('Class', axis=1).values\n",
    "    trainGroup = np.zeros(len(trainSet))\n",
    "    \n",
    "    #init Centroids\n",
    "    centroidX = np.random.uniform(trainSet[:, 0].min(), high = trainSet[:, 0].max(), size = k)\n",
    "    centroidY = np.random.uniform(trainSet[:, 1].min(), high = trainSet[:, 1].max(), size = k)\n",
    "    centroid = np.array(list(zip(centroidX, centroidY)), dtype = np.float32)\n",
    "    \n",
    "    \n",
    "    #init previous centroid and displacement\n",
    "    oldCentroid = np.zeros((len(centroid), len(centroid[0])))\n",
    "    displacement = None\n",
    "    \n",
    "    #Clustering\n",
    "    while displacement is None or np.mean(displacement) > 0.09:\n",
    "        for i in range(len(trainSet)):\n",
    "            distList = distance(trainSet[i], centroid)\n",
    "            trainGroup[i] = distList.argmin()\n",
    "\n",
    "        #adjust new Centroid to mean of clusters\n",
    "        oldCentroid = centroid.copy()\n",
    "\n",
    "        for i in range(k):\n",
    "            cluster = np.array([trainSet[j] for j in range(len(trainSet)) if trainGroup[j]==i])\n",
    "            centroid[i] = cluster.mean(axis=0)\n",
    "\n",
    "        #find new displacement\n",
    "        displacement = distance(centroid, oldCentroid)\n",
    "    \n",
    "    return centroid"
   ]
  },
  {
   "cell_type": "code",
   "execution_count": 43,
   "metadata": {},
   "outputs": [],
   "source": [
    "def clusterData(data, centroid):\n",
    "    dataGroup = np.zeros(len(data))\n",
    "    dataSet = data.drop('Class', axis=1).values\n",
    "    \n",
    "    for i in range(len(dataSet)):\n",
    "        distList = distance(dataSet[i], centroid)\n",
    "        dataGroup[i] = distList.argmin()\n",
    "    \n",
    "    return dataGroup"
   ]
  },
  {
   "cell_type": "code",
   "execution_count": 44,
   "metadata": {},
   "outputs": [],
   "source": [
    "def plot(data, centroid, cluster, title):\n",
    "    dataSet= data.values\n",
    "    \n",
    "    fig, axes = plt.subplots(\n",
    "        nrows=1,\n",
    "        ncols=2,\n",
    "        sharex=True,\n",
    "        sharey=True,\n",
    "        figsize=(15, 10)\n",
    "    )\n",
    "\n",
    "    axes[0].set_title(\"Clusters\")\n",
    "    axes[1].set_title(\"Actual\")\n",
    "    \n",
    "    for ax in axes:    \n",
    "        ax.set_xlabel('Length (cm)')\n",
    "        ax.set_ylabel('Width (cm)')\n",
    "    \n",
    "    colour=['green', 'orange', 'blue', 'slategrey', 'cyan', 'purple']\n",
    "    \n",
    "    for i in range(k):\n",
    "        pts = np.array([dataSet[j] for j in range(len(dataSet)) if cluster[j]==i])\n",
    "        #display\n",
    "        \n",
    "        if len(pts) > 0:\n",
    "            axes[0].plot(pts[:,0], pts[:,1], color=colour[i], marker='.', linestyle='', markersize=10)\n",
    "            axes[0].plot(centroid[i,0],centroid[i,1], color='black', marker='o', markersize=10)\n",
    "    \n",
    "    for i, species in enumerate(data['Class'].unique()):\n",
    "        subset = data[data['Class'] == species].values\n",
    "        \n",
    "        if len(subset) > 0:\n",
    "            axes[1].plot(subset[:, 0], subset[:, 1], color=colour[i+3], marker='.', linestyle='', label=species, markersize=10)\n",
    "            \n",
    "    axes[1].legend()"
   ]
  },
  {
   "cell_type": "code",
   "execution_count": null,
   "metadata": {},
   "outputs": [],
   "source": []
  },
  {
   "cell_type": "code",
   "execution_count": 45,
   "metadata": {
    "scrolled": false
   },
   "outputs": [],
   "source": [
    "sepal_dat = train[['sepalLength', 'sepalWidth', 'Class']]\n",
    "\n",
    "centroid = getCentroids(sepal_dat)\n",
    "clusters = clusterData(sepal_dat, centroid)\n",
    "# plot(sepal_dat, centroid, clusters, \"Sepal Length vs Width - Train\")\n"
   ]
  },
  {
   "cell_type": "code",
   "execution_count": 46,
   "metadata": {},
   "outputs": [
    {
     "data": {
      "image/png": "[encoded data removed]",
      "text/plain": [
       "<Figure size 1080x720 with 2 Axes>"
      ]
     },
     "metadata": {
      "needs_background": "light"
     },
     "output_type": "display_data"
    }
   ],
   "source": [
    "sepal_dat_test = test[['sepalLength', 'sepalWidth', 'Class']]\n",
    "\n",
    "clusters = clusterData(sepal_dat_test, centroid)\n",
    "plot(sepal_dat_test, centroid, clusters, \"Sepal Length vs Width - Test\")"
   ]
  },
  {
   "cell_type": "code",
   "execution_count": 63,
   "metadata": {
    "scrolled": false
   },
   "outputs": [],
   "source": [
    "petal_dat = train[['petalLength', 'petalWidth', 'Class']]\n",
    "\n",
    "centroid = getCentroids(petal_dat)\n",
    "clusters = clusterData(petal_dat, centroid)\n",
    "# plot(petal_dat, centroid, clusters, \"Petal Length vs Width - Train\")"
   ]
  },
  {
   "cell_type": "code",
   "execution_count": 64,
   "metadata": {},
   "outputs": [
    {
     "data": {
      "image/png": "[encoded data removed]",
      "text/plain": [
       "<Figure size 1080x720 with 2 Axes>"
      ]
     },
     "metadata": {
      "needs_background": "light"
     },
     "output_type": "display_data"
    }
   ],
   "source": [
    "petal_dat_test = test[['petalLength', 'petalWidth', 'Class']]\n",
    "\n",
    "clusters = clusterData(petal_dat_test, centroid)\n",
    "plot(petal_dat_test, centroid, clusters, \"Petal Length vs Width - Test\")"
   ]
  },
  {
   "cell_type": "code",
   "execution_count": null,
   "metadata": {},
   "outputs": [],
   "source": []
  },
  {
   "cell_type": "code",
   "execution_count": null,
   "metadata": {},
   "outputs": [],
   "source": []
  },
  {
   "cell_type": "markdown",
   "metadata": {},
   "source": [
    "# Train Decision Tree Model"
   ]
  },
  {
   "cell_type": "markdown",
   "metadata": {},
   "source": [
    "From the observations above with the K Means Clustering, it can be seen that clustering by petal was more accurate than clustering by sepal.\n",
    "Here a decision tree was implemented with Sci-kit learn and the conclusion from the clustering can be applied here as well. The classifying by petal should be more accurate than classifying by sepal. Classifying with all the features will be better because the data is more accurate."
   ]
  },
  {
   "cell_type": "code",
   "execution_count": 49,
   "metadata": {},
   "outputs": [],
   "source": [
    "from sklearn.tree import DecisionTreeClassifier\n",
    "from sklearn.metrics import accuracy_score"
   ]
  },
  {
   "cell_type": "code",
   "execution_count": 50,
   "metadata": {},
   "outputs": [],
   "source": [
    "def classificationGroup(label):\n",
    "    class_map = {\n",
    "        'Iris-versicolor': 0,\n",
    "        'Iris-virginica': 1, \n",
    "        'Iris-setosa': 2\n",
    "    }\n",
    "    \n",
    "    return(class_map[label])"
   ]
  },
  {
   "cell_type": "markdown",
   "metadata": {},
   "source": [
    "### Train Decision Tree Model on petal features"
   ]
  },
  {
   "cell_type": "code",
   "execution_count": 51,
   "metadata": {},
   "outputs": [],
   "source": [
    "treeClassifier = DecisionTreeClassifier()"
   ]
  },
  {
   "cell_type": "code",
   "execution_count": 52,
   "metadata": {
    "collapsed": true
   },
   "outputs": [
    {
     "data": {
      "text/plain": [
       "DecisionTreeClassifier(class_weight=None, criterion='gini', max_depth=None,\n",
       "            max_features=None, max_leaf_nodes=None,\n",
       "            min_impurity_decrease=0.0, min_impurity_split=None,\n",
       "            min_samples_leaf=1, min_samples_split=2,\n",
       "            min_weight_fraction_leaf=0.0, presort=False, random_state=None,\n",
       "            splitter='best')"
      ]
     },
     "execution_count": 52,
     "metadata": {},
     "output_type": "execute_result"
    }
   ],
   "source": [
    "#features\n",
    "x = train[['petalLength', 'petalWidth']].values\n",
    "#classification Group\n",
    "y = train['Class'].apply(classificationGroup).values\n",
    "\n",
    "treeClassifier.fit(x, y)"
   ]
  },
  {
   "cell_type": "code",
   "execution_count": 53,
   "metadata": {},
   "outputs": [],
   "source": [
    "predictedData = treeClassifier.predict(test[['petalLength', 'petalWidth']].values)"
   ]
  },
  {
   "cell_type": "markdown",
   "metadata": {},
   "source": [
    "### Accuracy of Decision Tree of petal features on test set"
   ]
  },
  {
   "cell_type": "code",
   "execution_count": 54,
   "metadata": {},
   "outputs": [
    {
     "data": {
      "text/plain": [
       "98.33333333333333"
      ]
     },
     "execution_count": 54,
     "metadata": {},
     "output_type": "execute_result"
    }
   ],
   "source": [
    "accuracy_score(test['Class'].apply(classificationGroup).values, predictedData)*100"
   ]
  },
  {
   "cell_type": "markdown",
   "metadata": {},
   "source": [
    "### Train Decision Tree Model on sepal features"
   ]
  },
  {
   "cell_type": "code",
   "execution_count": 55,
   "metadata": {},
   "outputs": [],
   "source": [
    "treeClassifier = DecisionTreeClassifier()"
   ]
  },
  {
   "cell_type": "code",
   "execution_count": 56,
   "metadata": {
    "collapsed": true
   },
   "outputs": [
    {
     "data": {
      "text/plain": [
       "DecisionTreeClassifier(class_weight=None, criterion='gini', max_depth=None,\n",
       "            max_features=None, max_leaf_nodes=None,\n",
       "            min_impurity_decrease=0.0, min_impurity_split=None,\n",
       "            min_samples_leaf=1, min_samples_split=2,\n",
       "            min_weight_fraction_leaf=0.0, presort=False, random_state=None,\n",
       "            splitter='best')"
      ]
     },
     "execution_count": 56,
     "metadata": {},
     "output_type": "execute_result"
    }
   ],
   "source": [
    "x = train[['sepalLength', 'sepalWidth']].values\n",
    "y = train['Class'].apply(classificationGroup).values\n",
    "\n",
    "treeClassifier.fit(x, y)"
   ]
  },
  {
   "cell_type": "code",
   "execution_count": 57,
   "metadata": {},
   "outputs": [],
   "source": [
    "predictedData = treeClassifier.predict(test[['sepalLength', 'sepalWidth']].values)"
   ]
  },
  {
   "cell_type": "markdown",
   "metadata": {},
   "source": [
    "### Accuracy of Decision Tree of sepal features on test set"
   ]
  },
  {
   "cell_type": "code",
   "execution_count": 58,
   "metadata": {},
   "outputs": [
    {
     "data": {
      "text/plain": [
       "70.0"
      ]
     },
     "execution_count": 58,
     "metadata": {},
     "output_type": "execute_result"
    }
   ],
   "source": [
    "accuracy_score(test['Class'].apply(classificationGroup).values, predictedData)*100"
   ]
  },
  {
   "cell_type": "markdown",
   "metadata": {},
   "source": [
    "### Train Decision Tree Model on all features"
   ]
  },
  {
   "cell_type": "code",
   "execution_count": 59,
   "metadata": {},
   "outputs": [],
   "source": [
    "treeClassifier = DecisionTreeClassifier()"
   ]
  },
  {
   "cell_type": "code",
   "execution_count": 60,
   "metadata": {
    "collapsed": true
   },
   "outputs": [
    {
     "data": {
      "text/plain": [
       "DecisionTreeClassifier(class_weight=None, criterion='gini', max_depth=None,\n",
       "            max_features=None, max_leaf_nodes=None,\n",
       "            min_impurity_decrease=0.0, min_impurity_split=None,\n",
       "            min_samples_leaf=1, min_samples_split=2,\n",
       "            min_weight_fraction_leaf=0.0, presort=False, random_state=None,\n",
       "            splitter='best')"
      ]
     },
     "execution_count": 60,
     "metadata": {},
     "output_type": "execute_result"
    }
   ],
   "source": [
    "x = train.drop('Class', axis=1).values\n",
    "y = train['Class'].apply(classificationGroup).values\n",
    "\n",
    "treeClassifier.fit(x, y)"
   ]
  },
  {
   "cell_type": "code",
   "execution_count": 61,
   "metadata": {},
   "outputs": [],
   "source": [
    "predictedData = treeClassifier.predict(test.drop('Class', axis=1).values)"
   ]
  },
  {
   "cell_type": "markdown",
   "metadata": {},
   "source": [
    "### Accuracy of Decision Tree of all features on test set"
   ]
  },
  {
   "cell_type": "code",
   "execution_count": 62,
   "metadata": {},
   "outputs": [
    {
     "data": {
      "text/plain": [
       "98.33333333333333"
      ]
     },
     "execution_count": 62,
     "metadata": {},
     "output_type": "execute_result"
    }
   ],
   "source": [
    "accuracy_score(test['Class'].apply(classificationGroup).values, predictedData)*100"
   ]
  },
  {
   "cell_type": "markdown",
   "metadata": {},
   "source": [
    "# Overall Conclusions"
   ]
  },
  {
   "cell_type": "markdown",
   "metadata": {},
   "source": [
    "As mentioned previously, the petal data would classify better than the sepal data. From the Clustering of the sepal and petal the clusters were clear when the centroids were being trained but not all the time did it match to the actual species especially for the sepal data. \n",
    "For the Iris Setosa species there was a clear group for both features of data and when compared to the actual clusters, this cluster was accurate.\n",
    "Looking more closely into the sepal feature for the Iris Versicolor and the Iris Virginica. The clusters were not accurate and when shown against what the actual classification should be for the cluster, the sepal's of these two species are actually all over the place with many outliers. Does this mean that the clustering is wrong or bad? No. The clustering algorithm is supposed to work with unsigned/unclassified data and group them into clusters. However, this does show that because there is no definitive sepal group for these 2 species, there may be many inaccuracies when it comes to the decision tree. That happened to be proved true because the accuracy of the decision tree was very low. Most of the correctness made by the decision tree comes from the Iris Setosa species since it can be easily checked for as there is a maximum length and very large width to the sepal that differentiates it from the rest. The other 2 species would be more trouble to fit to the decision tree becuase of the wide range and crossing range of data, making it hard to pick a point to branch from.\n",
    "\n",
    "As for the petal data, it was already mentioned that the Iris Setosa species has a very definitive cluster, the other 2 species had overlapping data with the sepal but for the petal, there were also clear cluster groups and the accuracy of the clustering was much better. The petal data also displays a linear releation where the longer the petal, the wider. Because of the definitive clusters for the petal data, implementing the decision tree for this would work well because there are clear attributes that can be found for each species to make a decision from. \n",
    "\n",
    "Obviously using both the petal and stem features would provide the most accurate because there are more attributes that classify that specific species"
   ]
  }
 ],
 "metadata": {
  "kernelspec": {
   "display_name": "Python 3",
   "language": "python",
   "name": "python3"
  },
  "language_info": {
   "codemirror_mode": {
    "name": "ipython",
    "version": 3
   },
   "file_extension": ".py",
   "mimetype": "text/x-python",
   "name": "python",
   "nbconvert_exporter": "python",
   "pygments_lexer": "ipython3",
   "version": "3.6.7"
  }
 },
 "nbformat": 4,
 "nbformat_minor": 2
}
